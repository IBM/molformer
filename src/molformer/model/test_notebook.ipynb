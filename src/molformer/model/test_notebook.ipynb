{
 "cells": [
  {
   "cell_type": "code",
   "execution_count": 12,
   "metadata": {},
   "outputs": [],
   "source": [
    "%reload_ext autoreload\n",
    "%autoreload 2"
   ]
  },
  {
   "cell_type": "code",
   "execution_count": 27,
   "metadata": {},
   "outputs": [],
   "source": [
    "\n",
    "from molformer.utils import get_argparse_defaults, read_config\n",
    "from molformer.tokenizer import MolTranBertTokenizer\n",
    "from molformer.model.attention import TestBert\n",
    "from molformer.model.args import get_parser as ARGS\n",
    "\n",
    "from attributedict.collections import AttributeDict\n",
    "import torch \n",
    "import pandas as pd\n",
    "import glob\n",
    "\n",
    "\n",
    "def get_bert(config, tokenizer):\n",
    "    bert_model = (\n",
    "        TestBert(\n",
    "            config,\n",
    "            tokenizer.vocab,\n",
    "            config.seed_path,\n",
    "            rotate=config.rotate,\n",
    "            device=config.device,\n",
    "        )\n",
    "        .to(config.device)\n",
    "        .eval()\n",
    "    )\n",
    "    bert_model.load_state_dict(dict(torch.load(config.seed_path, map_location=config.device)[\"state_dict\"]), strict=True )\n",
    "    return bert_model\n"
   ]
  },
  {
   "cell_type": "code",
   "execution_count": 28,
   "metadata": {},
   "outputs": [
    {
     "ename": "RuntimeError",
     "evalue": "Error(s) in loading state_dict for TestBert:\n\tMissing key(s) in state_dict: \"pos_emb\". \n\tUnexpected key(s) in state_dict: \"blocks.layers.0.attention.rotaryemb.inv_freq\", \"blocks.layers.1.attention.rotaryemb.inv_freq\", \"blocks.layers.2.attention.rotaryemb.inv_freq\", \"blocks.layers.3.attention.rotaryemb.inv_freq\", \"blocks.layers.4.attention.rotaryemb.inv_freq\", \"blocks.layers.5.attention.rotaryemb.inv_freq\", \"blocks.layers.6.attention.rotaryemb.inv_freq\", \"blocks.layers.7.attention.rotaryemb.inv_freq\", \"blocks.layers.8.attention.rotaryemb.inv_freq\", \"blocks.layers.9.attention.rotaryemb.inv_freq\", \"blocks.layers.10.attention.rotaryemb.inv_freq\", \"blocks.layers.11.attention.rotaryemb.inv_freq\". \n\tsize mismatch for blocks.layers.0.attention.inner_attention.feature_map.omega: copying a param with shape torch.Size([64, 32]) from checkpoint, the shape in current model is torch.Size([96, 32]).\n\tsize mismatch for blocks.layers.1.attention.inner_attention.feature_map.omega: copying a param with shape torch.Size([64, 32]) from checkpoint, the shape in current model is torch.Size([96, 32]).\n\tsize mismatch for blocks.layers.2.attention.inner_attention.feature_map.omega: copying a param with shape torch.Size([64, 32]) from checkpoint, the shape in current model is torch.Size([96, 32]).\n\tsize mismatch for blocks.layers.3.attention.inner_attention.feature_map.omega: copying a param with shape torch.Size([64, 32]) from checkpoint, the shape in current model is torch.Size([96, 32]).\n\tsize mismatch for blocks.layers.4.attention.inner_attention.feature_map.omega: copying a param with shape torch.Size([64, 32]) from checkpoint, the shape in current model is torch.Size([96, 32]).\n\tsize mismatch for blocks.layers.5.attention.inner_attention.feature_map.omega: copying a param with shape torch.Size([64, 32]) from checkpoint, the shape in current model is torch.Size([96, 32]).\n\tsize mismatch for blocks.layers.6.attention.inner_attention.feature_map.omega: copying a param with shape torch.Size([64, 32]) from checkpoint, the shape in current model is torch.Size([96, 32]).\n\tsize mismatch for blocks.layers.7.attention.inner_attention.feature_map.omega: copying a param with shape torch.Size([64, 32]) from checkpoint, the shape in current model is torch.Size([96, 32]).\n\tsize mismatch for blocks.layers.8.attention.inner_attention.feature_map.omega: copying a param with shape torch.Size([64, 32]) from checkpoint, the shape in current model is torch.Size([96, 32]).\n\tsize mismatch for blocks.layers.9.attention.inner_attention.feature_map.omega: copying a param with shape torch.Size([64, 32]) from checkpoint, the shape in current model is torch.Size([96, 32]).\n\tsize mismatch for blocks.layers.10.attention.inner_attention.feature_map.omega: copying a param with shape torch.Size([64, 32]) from checkpoint, the shape in current model is torch.Size([96, 32]).\n\tsize mismatch for blocks.layers.11.attention.inner_attention.feature_map.omega: copying a param with shape torch.Size([64, 32]) from checkpoint, the shape in current model is torch.Size([96, 32]).",
     "output_type": "error",
     "traceback": [
      "\u001b[0;31m---------------------------------------------------------------------------\u001b[0m",
      "\u001b[0;31mRuntimeError\u001b[0m                              Traceback (most recent call last)",
      "Cell \u001b[0;32mIn[28], line 8\u001b[0m\n\u001b[1;32m      5\u001b[0m DEFAULTS\u001b[39m.\u001b[39mseed_path \u001b[39m=\u001b[39m \u001b[39m'\u001b[39m\u001b[39m/Users/kevinmaikjablonka/Downloads/Pretrained MoLFormer/checkpoints/N-Step-Checkpoint_0_0.ckpt\u001b[39m\u001b[39m'\u001b[39m \u001b[39m# Doing this is kind of ugly. In the medium to long run this should be a real configuration system (e.g. Hydra)\u001b[39;00m\n\u001b[1;32m      6\u001b[0m \u001b[39m### import|model\u001b[39;00m\n\u001b[1;32m      7\u001b[0m \u001b[39m# register_attention(\"linear\")\u001b[39;00m\n\u001b[0;32m----> 8\u001b[0m BERT \u001b[39m=\u001b[39m get_bert(DEFAULTS, TOKENIZER)\n",
      "Cell \u001b[0;32mIn[27], line 24\u001b[0m, in \u001b[0;36mget_bert\u001b[0;34m(config, tokenizer)\u001b[0m\n\u001b[1;32m     12\u001b[0m \u001b[39mdef\u001b[39;00m \u001b[39mget_bert\u001b[39m(config, tokenizer):\n\u001b[1;32m     13\u001b[0m     bert_model \u001b[39m=\u001b[39m (\n\u001b[1;32m     14\u001b[0m         TestBert(\n\u001b[1;32m     15\u001b[0m             config,\n\u001b[0;32m   (...)\u001b[0m\n\u001b[1;32m     22\u001b[0m         \u001b[39m.\u001b[39meval()\n\u001b[1;32m     23\u001b[0m     )\n\u001b[0;32m---> 24\u001b[0m     bert_model\u001b[39m.\u001b[39;49mload_state_dict(\u001b[39mdict\u001b[39;49m(torch\u001b[39m.\u001b[39;49mload(config\u001b[39m.\u001b[39;49mseed_path, map_location\u001b[39m=\u001b[39;49mconfig\u001b[39m.\u001b[39;49mdevice)[\u001b[39m\"\u001b[39;49m\u001b[39mstate_dict\u001b[39;49m\u001b[39m\"\u001b[39;49m]), strict\u001b[39m=\u001b[39;49m\u001b[39mTrue\u001b[39;49;00m )\n\u001b[1;32m     25\u001b[0m     \u001b[39mreturn\u001b[39;00m bert_model\n",
      "File \u001b[0;32m~/miniconda3/envs/molformer/lib/python3.8/site-packages/torch/nn/modules/module.py:2041\u001b[0m, in \u001b[0;36mModule.load_state_dict\u001b[0;34m(self, state_dict, strict)\u001b[0m\n\u001b[1;32m   2036\u001b[0m         error_msgs\u001b[39m.\u001b[39minsert(\n\u001b[1;32m   2037\u001b[0m             \u001b[39m0\u001b[39m, \u001b[39m'\u001b[39m\u001b[39mMissing key(s) in state_dict: \u001b[39m\u001b[39m{}\u001b[39;00m\u001b[39m. \u001b[39m\u001b[39m'\u001b[39m\u001b[39m.\u001b[39mformat(\n\u001b[1;32m   2038\u001b[0m                 \u001b[39m'\u001b[39m\u001b[39m, \u001b[39m\u001b[39m'\u001b[39m\u001b[39m.\u001b[39mjoin(\u001b[39m'\u001b[39m\u001b[39m\"\u001b[39m\u001b[39m{}\u001b[39;00m\u001b[39m\"\u001b[39m\u001b[39m'\u001b[39m\u001b[39m.\u001b[39mformat(k) \u001b[39mfor\u001b[39;00m k \u001b[39min\u001b[39;00m missing_keys)))\n\u001b[1;32m   2040\u001b[0m \u001b[39mif\u001b[39;00m \u001b[39mlen\u001b[39m(error_msgs) \u001b[39m>\u001b[39m \u001b[39m0\u001b[39m:\n\u001b[0;32m-> 2041\u001b[0m     \u001b[39mraise\u001b[39;00m \u001b[39mRuntimeError\u001b[39;00m(\u001b[39m'\u001b[39m\u001b[39mError(s) in loading state_dict for \u001b[39m\u001b[39m{}\u001b[39;00m\u001b[39m:\u001b[39m\u001b[39m\\n\u001b[39;00m\u001b[39m\\t\u001b[39;00m\u001b[39m{}\u001b[39;00m\u001b[39m'\u001b[39m\u001b[39m.\u001b[39mformat(\n\u001b[1;32m   2042\u001b[0m                        \u001b[39mself\u001b[39m\u001b[39m.\u001b[39m\u001b[39m__class__\u001b[39m\u001b[39m.\u001b[39m\u001b[39m__name__\u001b[39m, \u001b[39m\"\u001b[39m\u001b[39m\\n\u001b[39;00m\u001b[39m\\t\u001b[39;00m\u001b[39m\"\u001b[39m\u001b[39m.\u001b[39mjoin(error_msgs)))\n\u001b[1;32m   2043\u001b[0m \u001b[39mreturn\u001b[39;00m _IncompatibleKeys(missing_keys, unexpected_keys)\n",
      "\u001b[0;31mRuntimeError\u001b[0m: Error(s) in loading state_dict for TestBert:\n\tMissing key(s) in state_dict: \"pos_emb\". \n\tUnexpected key(s) in state_dict: \"blocks.layers.0.attention.rotaryemb.inv_freq\", \"blocks.layers.1.attention.rotaryemb.inv_freq\", \"blocks.layers.2.attention.rotaryemb.inv_freq\", \"blocks.layers.3.attention.rotaryemb.inv_freq\", \"blocks.layers.4.attention.rotaryemb.inv_freq\", \"blocks.layers.5.attention.rotaryemb.inv_freq\", \"blocks.layers.6.attention.rotaryemb.inv_freq\", \"blocks.layers.7.attention.rotaryemb.inv_freq\", \"blocks.layers.8.attention.rotaryemb.inv_freq\", \"blocks.layers.9.attention.rotaryemb.inv_freq\", \"blocks.layers.10.attention.rotaryemb.inv_freq\", \"blocks.layers.11.attention.rotaryemb.inv_freq\". \n\tsize mismatch for blocks.layers.0.attention.inner_attention.feature_map.omega: copying a param with shape torch.Size([64, 32]) from checkpoint, the shape in current model is torch.Size([96, 32]).\n\tsize mismatch for blocks.layers.1.attention.inner_attention.feature_map.omega: copying a param with shape torch.Size([64, 32]) from checkpoint, the shape in current model is torch.Size([96, 32]).\n\tsize mismatch for blocks.layers.2.attention.inner_attention.feature_map.omega: copying a param with shape torch.Size([64, 32]) from checkpoint, the shape in current model is torch.Size([96, 32]).\n\tsize mismatch for blocks.layers.3.attention.inner_attention.feature_map.omega: copying a param with shape torch.Size([64, 32]) from checkpoint, the shape in current model is torch.Size([96, 32]).\n\tsize mismatch for blocks.layers.4.attention.inner_attention.feature_map.omega: copying a param with shape torch.Size([64, 32]) from checkpoint, the shape in current model is torch.Size([96, 32]).\n\tsize mismatch for blocks.layers.5.attention.inner_attention.feature_map.omega: copying a param with shape torch.Size([64, 32]) from checkpoint, the shape in current model is torch.Size([96, 32]).\n\tsize mismatch for blocks.layers.6.attention.inner_attention.feature_map.omega: copying a param with shape torch.Size([64, 32]) from checkpoint, the shape in current model is torch.Size([96, 32]).\n\tsize mismatch for blocks.layers.7.attention.inner_attention.feature_map.omega: copying a param with shape torch.Size([64, 32]) from checkpoint, the shape in current model is torch.Size([96, 32]).\n\tsize mismatch for blocks.layers.8.attention.inner_attention.feature_map.omega: copying a param with shape torch.Size([64, 32]) from checkpoint, the shape in current model is torch.Size([96, 32]).\n\tsize mismatch for blocks.layers.9.attention.inner_attention.feature_map.omega: copying a param with shape torch.Size([64, 32]) from checkpoint, the shape in current model is torch.Size([96, 32]).\n\tsize mismatch for blocks.layers.10.attention.inner_attention.feature_map.omega: copying a param with shape torch.Size([64, 32]) from checkpoint, the shape in current model is torch.Size([96, 32]).\n\tsize mismatch for blocks.layers.11.attention.inner_attention.feature_map.omega: copying a param with shape torch.Size([64, 32]) from checkpoint, the shape in current model is torch.Size([96, 32])."
     ]
    }
   ],
   "source": [
    "\n",
    "### defaults\n",
    "DEFAULTS = AttributeDict(get_argparse_defaults(ARGS()))\n",
    "TOKENIZER = MolTranBertTokenizer(\"../../../finetune/bert_vocab.txt\")\n",
    "DEFAULTS.device = 'cpu'\n",
    "DEFAULTS.seed_path = '/Users/kevinmaikjablonka/Downloads/Pretrained MoLFormer/checkpoints/N-Step-Checkpoint_0_0.ckpt' # Doing this is kind of ugly. In the medium to long run this should be a real configuration system (e.g. Hydra)\n",
    "### import|model\n",
    "# register_attention(\"linear\")\n",
    "BERT = get_bert(DEFAULTS, TOKENIZER)\n",
    "\n",
    "    \n",
    "\n"
   ]
  },
  {
   "cell_type": "code",
   "execution_count": 20,
   "metadata": {},
   "outputs": [
    {
     "ename": "AttributeError",
     "evalue": "'seed_path'",
     "output_type": "error",
     "traceback": [
      "\u001b[0;31m---------------------------------------------------------------------------\u001b[0m",
      "\u001b[0;31mKeyError\u001b[0m                                  Traceback (most recent call last)",
      "File \u001b[0;32m~/miniconda3/envs/molformer/lib/python3.8/site-packages/attributedict/collections.py:223\u001b[0m, in \u001b[0;36mAttributeDict.__getattr__\u001b[0;34m(self, key)\u001b[0m\n\u001b[1;32m    222\u001b[0m \u001b[39mtry\u001b[39;00m:\n\u001b[0;32m--> 223\u001b[0m     \u001b[39mreturn\u001b[39;00m \u001b[39mself\u001b[39;49m\u001b[39m.\u001b[39;49m\u001b[39m__getitem__\u001b[39;49m(key)\n\u001b[1;32m    225\u001b[0m \u001b[39mexcept\u001b[39;00m \u001b[39mException\u001b[39;00m \u001b[39mas\u001b[39;00m error:\n",
      "File \u001b[0;32m~/miniconda3/envs/molformer/lib/python3.8/site-packages/attributedict/collections.py:165\u001b[0m, in \u001b[0;36mAttributeDict.__getitem__\u001b[0;34m(self, key)\u001b[0m\n\u001b[1;32m    154\u001b[0m \u001b[39m\u001b[39m\u001b[39m\"\"\"\u001b[39;00m\n\u001b[1;32m    155\u001b[0m \u001b[39mProvides `dict` style property access to dictionary key-values.\u001b[39;00m\n\u001b[1;32m    156\u001b[0m \n\u001b[0;32m   (...)\u001b[0m\n\u001b[1;32m    163\u001b[0m \n\u001b[1;32m    164\u001b[0m \u001b[39m\"\"\"\u001b[39;00m\n\u001b[0;32m--> 165\u001b[0m result \u001b[39m=\u001b[39m \u001b[39mself\u001b[39;49m\u001b[39m.\u001b[39;49m\u001b[39m__dict__\u001b[39;49m\u001b[39m.\u001b[39;49m\u001b[39m__getitem__\u001b[39;49m(key)\n\u001b[1;32m    167\u001b[0m \u001b[39mself\u001b[39m\u001b[39m.\u001b[39m_refresh()\n",
      "\u001b[0;31mKeyError\u001b[0m: 'seed_path'",
      "\nDuring handling of the above exception, another exception occurred:\n",
      "\u001b[0;31mAttributeError\u001b[0m                            Traceback (most recent call last)",
      "Cell \u001b[0;32mIn[20], line 1\u001b[0m\n\u001b[0;32m----> 1\u001b[0m DEFAULTS\u001b[39m.\u001b[39;49mseed_path\n",
      "File \u001b[0;32m~/miniconda3/envs/molformer/lib/python3.8/site-packages/attributedict/collections.py:226\u001b[0m, in \u001b[0;36mAttributeDict.__getattr__\u001b[0;34m(self, key)\u001b[0m\n\u001b[1;32m    223\u001b[0m     \u001b[39mreturn\u001b[39;00m \u001b[39mself\u001b[39m\u001b[39m.\u001b[39m\u001b[39m__getitem__\u001b[39m(key)\n\u001b[1;32m    225\u001b[0m \u001b[39mexcept\u001b[39;00m \u001b[39mException\u001b[39;00m \u001b[39mas\u001b[39;00m error:\n\u001b[0;32m--> 226\u001b[0m     \u001b[39mraise\u001b[39;00m \u001b[39mAttributeError\u001b[39;00m(error)\n",
      "\u001b[0;31mAttributeError\u001b[0m: 'seed_path'"
     ]
    }
   ],
   "source": [
    "DEFAULTS.seed_path"
   ]
  },
  {
   "cell_type": "code",
   "execution_count": null,
   "metadata": {},
   "outputs": [],
   "source": [
    "def get_full_model(CHECKPOINT_PATH : str, VOCAB_PATH : str, CONFIG_PATH):\n",
    "    DEFAULTS = AttributeDict(get_argparse_defaults(ARGS()))\n",
    "    CONFIG_FILE_PATH = '/home/mi52qep/proj/molformer/data/Pretrained MoLFormer/hparams.yaml'\n",
    "    CONFIG = read_config(CONFIG_FILE_PATH)\n",
    "    \n",
    "    CONFIG.seed_path = CHECKPOINT_PATH\n",
    "    TOKENIZER = MolTranBertTokenizer(VOCAB_PATH)\n",
    "    TOKENIZER.name_or_path = VOCAB_PATH\n",
    "    BERT = get_bert(CONFIG, TOKENIZER)\n",
    "    return BERT\n",
    "\n",
    "\n",
    "def agg_attention(smiles : str, nr_of_layers, CONFIG_PATH, VOCAB_PATH):\n",
    "    for layer in range(nr_of_layers):\n",
    "        if layer == 0:\n",
    "            \n",
    "            attention_tensor = calc_attention_tensor(smiles, layer, CONFIG_PATH, VOCAB_PATH)\n",
    "        \n",
    "        else:\n",
    "            attention_tensor += calc_attention_tensor(smiles, layer, CONFIG_PATH, VOCAB_PATH)\n",
    "    \n",
    "    return attention_tensor/nr_of_layers\n",
    "\n",
    "\n",
    "def r2(x, y):\n",
    "    x = x.flatten()\n",
    "    y = y.flatten()\n",
    "    LR = LinearRegression()\n",
    "    LR.fit(np.array(x).reshape(-1, 1), y)\n",
    "    y_pred = LR.predict(np.array(x).reshape(-1, 1))\n",
    "\n",
    "    return r2_score(y_pred, y)\n",
    "\n"
   ]
  },
  {
   "cell_type": "code",
   "execution_count": null,
   "metadata": {},
   "outputs": [],
   "source": [
    "DATA_PATH = '/home/mi52qep/proj/molformer_refactor/src/molformer/data/bace/test.csv'\n",
    "BACE_TEST = pd.read_csv(DATA_PATH).smiles\n",
    "CHECKPOINT_PATHS = glob.glob(\"/home/mi52qep/proj/molformer/data/Pretrained MoLFormer/checkpoints/*.ckpt\")\n",
    "VOCAB_PATH = '/home/mi52qep/proj/molformer_refactor/src/molformer/data/bert_vocab.txt'\n",
    "\n",
    "\n",
    "CONFIG_FILE_PATH = '/home/mi52qep/proj/molformer/data/Pretrained MoLFormer/hparams.yaml'\n",
    "CONFIG = read_config(CONFIG_FILE_PATH)\n",
    "CONFIG.seed_path = CHECKPOINT_PATH\n",
    "CONFIG.canonical = False\n",
    "CONFIG.mask = False\n",
    "\n",
    "TEST_SMILES = BACE_TEST[0]\n",
    "\n",
    "for CHECKPOINT_PATH in CHECKPOINT_PATHS:\n",
    "    model = get_full_model(CHECKPOINT_PATH, VOCAB_PATH, CONFIG_FILE_PATH)\n",
    "    attention = agg_attention(TEST_SMILES, 12, CONFIG, VOCAB_PATH)\n",
    "    distance_matrix = distance_matrix(TEST_SMILES)\n",
    "    r2 = r2(attention, distance_matrix)\n",
    "    %%capture\n",
    "    print(r2)\n"
   ]
  }
 ],
 "metadata": {
  "kernelspec": {
   "display_name": "molformer",
   "language": "python",
   "name": "python3"
  },
  "language_info": {
   "codemirror_mode": {
    "name": "ipython",
    "version": 3
   },
   "file_extension": ".py",
   "mimetype": "text/x-python",
   "name": "python",
   "nbconvert_exporter": "python",
   "pygments_lexer": "ipython3",
   "version": "3.8.17"
  },
  "orig_nbformat": 4
 },
 "nbformat": 4,
 "nbformat_minor": 2
}
